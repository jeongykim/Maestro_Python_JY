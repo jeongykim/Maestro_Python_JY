{
 "cells": [
  {
   "cell_type": "code",
   "execution_count": 1,
   "metadata": {},
   "outputs": [
    {
     "data": {
      "text/plain": [
       "4"
      ]
     },
     "execution_count": 1,
     "metadata": {},
     "output_type": "execute_result"
    }
   ],
   "source": [
    "1+3"
   ]
  },
  {
   "cell_type": "code",
   "execution_count": 2,
   "metadata": {},
   "outputs": [
    {
     "name": "stdout",
     "output_type": "stream",
     "text": [
      "4\n"
     ]
    }
   ],
   "source": [
    "print(1+3)"
   ]
  },
  {
   "cell_type": "code",
   "execution_count": 8,
   "metadata": {},
   "outputs": [
    {
     "data": {
      "text/plain": [
       "34000000.0"
      ]
     },
     "execution_count": 8,
     "metadata": {},
     "output_type": "execute_result"
    }
   ],
   "source": [
    "3.4e7"
   ]
  },
  {
   "cell_type": "code",
   "execution_count": 9,
   "metadata": {},
   "outputs": [
    {
     "data": {
      "text/plain": [
       "0.0034"
      ]
     },
     "execution_count": 9,
     "metadata": {},
     "output_type": "execute_result"
    }
   ],
   "source": [
    "3.4e-3"
   ]
  },
  {
   "cell_type": "code",
   "execution_count": 12,
   "metadata": {},
   "outputs": [
    {
     "data": {
      "text/plain": [
       "9"
      ]
     },
     "execution_count": 12,
     "metadata": {},
     "output_type": "execute_result"
    }
   ],
   "source": [
    "3**2"
   ]
  },
  {
   "cell_type": "code",
   "execution_count": 14,
   "metadata": {},
   "outputs": [
    {
     "data": {
      "text/plain": [
       "1"
      ]
     },
     "execution_count": 14,
     "metadata": {},
     "output_type": "execute_result"
    }
   ],
   "source": [
    "3^2"
   ]
  },
  {
   "cell_type": "code",
   "execution_count": 26,
   "metadata": {},
   "outputs": [
    {
     "name": "stdout",
     "output_type": "stream",
     "text": [
      "출하가능개수 : 1\n",
      "남은재고개수 : 2\n"
     ]
    }
   ],
   "source": [
    "# 재고 5\n",
    "# 3개마다 1박스 구성 가능\n",
    "# 출하 가능 박스 개수 1\n",
    "# 남은 재고 개수 2\n",
    "stock_current = 5\n",
    "pacage_size = 3\n",
    "box_avaiable = stock_current//pacage_size\n",
    "stock_current = stock_current%pacage_size\n",
    "print(\"출하가능개수 :\",box_avaiable)\n",
    "print(\"남은재고개수 :\",stock_current)"
   ]
  },
  {
   "cell_type": "code",
   "execution_count": 1,
   "metadata": {},
   "outputs": [
    {
     "data": {
      "text/plain": [
       "'Python is fun'"
      ]
     },
     "execution_count": 1,
     "metadata": {},
     "output_type": "execute_result"
    }
   ],
   "source": [
    "'Python is fun'"
   ]
  },
  {
   "cell_type": "code",
   "execution_count": 4,
   "metadata": {},
   "outputs": [
    {
     "name": "stdout",
     "output_type": "stream",
     "text": [
      "best\n",
      "music\n",
      "award\n"
     ]
    }
   ],
   "source": [
    "print('''best\n",
    "music\n",
    "award''')\n",
    "# 일반 따옴표는 한 줄만 커버가 가능하다. 하지만 따옴표가 3개가 오면 모든 줄을 커버가 가능하다. 이것을 쓸 때는 긴 신문기사를 가져올 때 사용한다."
   ]
  },
  {
   "cell_type": "code",
   "execution_count": 6,
   "metadata": {},
   "outputs": [
    {
     "name": "stdout",
     "output_type": "stream",
     "text": [
      "best\n",
      "music \n",
      "award\n"
     ]
    }
   ],
   "source": [
    "print(\"best\\nmusic \\naward\") ## 별로 선호되지 않는다"
   ]
  },
  {
   "cell_type": "code",
   "execution_count": 9,
   "metadata": {
    "scrolled": true
   },
   "outputs": [
    {
     "name": "stdout",
     "output_type": "stream",
     "text": [
      "a\\b\\c\\\n"
     ]
    }
   ],
   "source": [
    "print(\"a\\\n",
    "b\\\\c\\\\\")"
   ]
  },
  {
   "cell_type": "code",
   "execution_count": 10,
   "metadata": {},
   "outputs": [
    {
     "ename": "SyntaxError",
     "evalue": "invalid syntax (<ipython-input-10-850f54764449>, line 1)",
     "output_type": "error",
     "traceback": [
      "\u001b[1;36m  File \u001b[1;32m\"<ipython-input-10-850f54764449>\"\u001b[1;36m, line \u001b[1;32m1\u001b[0m\n\u001b[1;33m    print('girl's generation)\u001b[0m\n\u001b[1;37m                ^\u001b[0m\n\u001b[1;31mSyntaxError\u001b[0m\u001b[1;31m:\u001b[0m invalid syntax\n"
     ]
    }
   ],
   "source": [
    "print('girl's generation)"
   ]
  },
  {
   "cell_type": "code",
   "execution_count": 14,
   "metadata": {},
   "outputs": [
    {
     "name": "stdout",
     "output_type": "stream",
     "text": [
      "girl's generation\n"
     ]
    }
   ],
   "source": [
    "print(\"girl's generation\")"
   ]
  },
  {
   "cell_type": "code",
   "execution_count": 16,
   "metadata": {},
   "outputs": [
    {
     "name": "stdout",
     "output_type": "stream",
     "text": [
      "girl's generation\n"
     ]
    }
   ],
   "source": [
    "print('girl\\'s generation')"
   ]
  },
  {
   "cell_type": "code",
   "execution_count": 24,
   "metadata": {},
   "outputs": [
    {
     "name": "stdout",
     "output_type": "stream",
     "text": [
      "안녕하세요. 김정연님 만나서 반갑습니다\n"
     ]
    }
   ],
   "source": [
    "greeting = \"안녕하세요.\"\n",
    "name = \" 김정연\"\n",
    "greeting2 =\"님 만나서 반갑습니다\"\n",
    "sentence1 = greeting + name + greeting2\n",
    "print(sentence1)"
   ]
  },
  {
   "cell_type": "code",
   "execution_count": 27,
   "metadata": {},
   "outputs": [
    {
     "name": "stdout",
     "output_type": "stream",
     "text": [
      "안녕하세요.최승연님 만나서 반갑습니다\n"
     ]
    }
   ],
   "source": [
    "name=\"최승연\"\n",
    "sentence1 = greeting + name + greeting2\n",
    "print(sentence1)"
   ]
  },
  {
   "cell_type": "code",
   "execution_count": 39,
   "metadata": {},
   "outputs": [
    {
     "name": "stdout",
     "output_type": "stream",
     "text": [
      "안녕하세요.최승연님 만나서 정말 정말 정말반갑습니다.\n"
     ]
    }
   ],
   "source": [
    "friendly = 3\n",
    "expression1 = \" 정말\"\n",
    "greeting2 =\"님 만나서\"\n",
    "greeting3 =\"반갑습니다.\"\n",
    "sentence1 = greeting + name + greeting2\\\n",
    "            +expression1*friendly + greeting3\n",
    "print(sentence1)"
   ]
  },
  {
   "cell_type": "code",
   "execution_count": 44,
   "metadata": {},
   "outputs": [],
   "source": [
    "first_over_count=0\n",
    "second_over_count=0"
   ]
  },
  {
   "cell_type": "code",
   "execution_count": 47,
   "metadata": {},
   "outputs": [
    {
     "name": "stdout",
     "output_type": "stream",
     "text": [
      "first_over_count:0\n",
      "second_over_count:0\n"
     ]
    }
   ],
   "source": [
    "first_name=\"정연\"\n",
    "second_name=\"김\"\n",
    "if len(first_name) > 3:\n",
    "    print(\"이름 길이 초과 탐색\")\n",
    "    first_over_count+=1\n",
    "if len(second_name)> 1:\n",
    "    print(\"성 길이 초과 탐색\")\n",
    "    second_over_count+=1\n",
    "print(\"first_over_count:\"+str(first_over_count))\n",
    "print(\"second_over_count:\"+str(second_over_count))"
   ]
  },
  {
   "cell_type": "code",
   "execution_count": 48,
   "metadata": {},
   "outputs": [
    {
     "name": "stdout",
     "output_type": "stream",
     "text": [
      "성 길이 초과 탐색\n",
      "first_over_count:0\n",
      "second_over_count:1\n"
     ]
    }
   ],
   "source": [
    "first_name=\"용녀\"\n",
    "second_name=\"선우\"\n",
    "if len(first_name) > 3:\n",
    "    print(\"이름 길이 초과 탐색\")\n",
    "    first_over_count+=1\n",
    "if len(second_name)> 1:\n",
    "    print(\"성 길이 초과 탐색\")\n",
    "    second_over_count+=1\n",
    "print(\"first_over_count:\"+str(first_over_count))\n",
    "print(\"second_over_count:\"+str(second_over_count))"
   ]
  },
  {
   "cell_type": "code",
   "execution_count": 49,
   "metadata": {},
   "outputs": [
    {
     "name": "stdout",
     "output_type": "stream",
     "text": [
      "성 길이 초과 탐색\n",
      "first_over_count:0\n",
      "second_over_count:2\n"
     ]
    }
   ],
   "source": [
    "first_name=\"용재\"\n",
    "second_name=\"독고\"\n",
    "if len(first_name) > 3:\n",
    "    print(\"이름 길이 초과 탐색\")\n",
    "    first_over_count+=1\n",
    "if len(second_name)> 1:\n",
    "    print(\"성 길이 초과 탐색\")\n",
    "    second_over_count+=1\n",
    "print(\"first_over_count:\"+str(first_over_count))\n",
    "print(\"second_over_count:\"+str(second_over_count))"
   ]
  },
  {
   "cell_type": "code",
   "execution_count": null,
   "metadata": {},
   "outputs": [],
   "source": []
  }
 ],
 "metadata": {
  "kernelspec": {
   "display_name": "Python 3",
   "language": "python",
   "name": "python3"
  },
  "language_info": {
   "codemirror_mode": {
    "name": "ipython",
    "version": 3
   },
   "file_extension": ".py",
   "mimetype": "text/x-python",
   "name": "python",
   "nbconvert_exporter": "python",
   "pygments_lexer": "ipython3",
   "version": "3.8.5"
  }
 },
 "nbformat": 4,
 "nbformat_minor": 4
}
